{
 "cells": [
  {
   "cell_type": "markdown",
   "metadata": {},
   "source": [
    "# KANs to solve PDE \n",
    "\n",
    "reference: https://kindxiaoming.github.io/pykan/Example/Example_6_PDE_interpretation.html and https://kindxiaoming.github.io/pykan/Example/Example_7_PDE_accuracy.html (original author of the KAN's)"
   ]
  },
  {
   "cell_type": "markdown",
   "metadata": {},
   "source": [
    "Before run the notebook, please create a separate ennvironment, because the library is still instable.\n",
    "\n",
    "```\n",
    "conda create --name pykan-env python=3.9.7\n",
    "conda activate pykan-env\n",
    "pip install git+https://github.com/KindXiaoming/pykan.git  \n",
    "pip install -r pykan_env_requirements.txt\n",
    "```"
   ]
  },
  {
   "cell_type": "code",
   "execution_count": 1,
   "metadata": {},
   "outputs": [
    {
     "name": "stdout",
     "output_type": "stream",
     "text": [
      "cuda\n"
     ]
    }
   ],
   "source": [
    "from kan import *\n",
    "import torch\n",
    "import matplotlib.pyplot as plt\n",
    "from torch import autograd\n",
    "from tqdm import tqdm\n",
    "\n",
    "device = torch.device('cuda' if torch.cuda.is_available() else 'cpu')\n",
    "print(device)"
   ]
  },
  {
   "cell_type": "code",
   "execution_count": 2,
   "metadata": {},
   "outputs": [
    {
     "name": "stdout",
     "output_type": "stream",
     "text": [
      "checkpoint directory created: ./model\n",
      "saving model version 0.0\n"
     ]
    },
    {
     "name": "stderr",
     "output_type": "stream",
     "text": [
      "pde loss: 2.11e+00 | bc loss: 1.73e-03 | l2: 3.08e-03 : 100%|███████| 50/50 [00:21<00:00,  2.33it/s]\n",
      "pde loss: 5.62e-01 | bc loss: 5.03e-04 | l2: 1.01e-03 : 100%|███████| 50/50 [00:21<00:00,  2.36it/s]\n",
      "pde loss: 9.90e-02 | bc loss: 3.85e-05 | l2: 7.32e-05 : 100%|███████| 50/50 [00:20<00:00,  2.45it/s]\n"
     ]
    }
   ],
   "source": [
    "dim = 2\n",
    "np_i = 51 # number of interior points (along each dimension)\n",
    "np_b = 51 # number of boundary points (along each dimension)\n",
    "ranges = [-1, 1]\n",
    "\n",
    "\n",
    "def batch_jacobian(func, x, create_graph=False):\n",
    "    # x in shape (Batch, Length)\n",
    "    def _func_sum(x):\n",
    "        return func(x).sum(dim=0)\n",
    "    return autograd.functional.jacobian(_func_sum, x, create_graph=create_graph).permute(1,0,2)\n",
    "\n",
    "# define solution\n",
    "sol_fun = lambda x: torch.sin(torch.pi*x[:,[0]])*torch.sin(torch.pi*x[:,[1]])\n",
    "source_fun = lambda x: -2*torch.pi**2 * torch.sin(torch.pi*x[:,[0]])*torch.sin(torch.pi*x[:,[1]])\n",
    "\n",
    "# interior\n",
    "sampling_mode = 'mesh' # 'radnom' or 'mesh'\n",
    "\n",
    "x_mesh = torch.linspace(ranges[0],ranges[1],steps=np_i)\n",
    "y_mesh = torch.linspace(ranges[0],ranges[1],steps=np_i)\n",
    "X, Y = torch.meshgrid(x_mesh, y_mesh, indexing=\"ij\")\n",
    "if sampling_mode == 'mesh':\n",
    "    #mesh\n",
    "    x_i = torch.stack([X.reshape(-1,), Y.reshape(-1,)]).permute(1,0)\n",
    "else:\n",
    "    #random\n",
    "    x_i = torch.rand((np_i**2,2))*2-1\n",
    "\n",
    "x_i = x_i.to(device)\n",
    "\n",
    "# boundary, 4 sides\n",
    "helper = lambda X, Y: torch.stack([X.reshape(-1,), Y.reshape(-1,)]).permute(1,0)\n",
    "xb1 = helper(X[0], Y[0])\n",
    "xb2 = helper(X[-1], Y[0])\n",
    "xb3 = helper(X[:,0], Y[:,0])\n",
    "xb4 = helper(X[:,0], Y[:,-1])\n",
    "x_b = torch.cat([xb1, xb2, xb3, xb4], dim=0)\n",
    "\n",
    "x_b = x_b.to(device)\n",
    "\n",
    "alpha = 0.01\n",
    "log = 1\n",
    "\n",
    "\n",
    "grids = [5,10,20]\n",
    "steps = 50\n",
    "\n",
    "pde_losses = []\n",
    "bc_losses = []\n",
    "l2_losses = []\n",
    "\n",
    "for grid in grids:\n",
    "    if grid == grids[0]:\n",
    "        model = KAN(width=[2,2,1], grid=grid, k=3, seed=1, device=device)\n",
    "        model = model.speed()\n",
    "    else:\n",
    "        model.save_act = True\n",
    "        model.get_act(x_i)\n",
    "        model = model.refine(grid)\n",
    "        model = model.speed()\n",
    "    model = model.to(device)\n",
    "    def train():\n",
    "        optimizer = LBFGS(model.parameters(), lr=1, history_size=10, line_search_fn=\"strong_wolfe\", tolerance_grad=1e-32, tolerance_change=1e-32, tolerance_ys=1e-32)\n",
    "\n",
    "        pbar = tqdm(range(steps), desc='description', ncols=100)\n",
    "\n",
    "        for _ in pbar:\n",
    "            def closure():\n",
    "                global pde_loss, bc_loss\n",
    "                optimizer.zero_grad()\n",
    "                # interior loss\n",
    "                sol = sol_fun(x_i)\n",
    "                sol_D1_fun = lambda x: batch_jacobian(model, x, create_graph=True)[:,0,:]\n",
    "                sol_D1 = sol_D1_fun(x_i)\n",
    "                sol_D2 = batch_jacobian(sol_D1_fun, x_i, create_graph=True)[:,:,:]\n",
    "                lap = torch.sum(torch.diagonal(sol_D2, dim1=1, dim2=2), dim=1, keepdim=True)\n",
    "                source = source_fun(x_i)\n",
    "                pde_loss = torch.mean((lap - source)**2)\n",
    "\n",
    "                # boundary loss\n",
    "                bc_true = sol_fun(x_b)\n",
    "                bc_pred = model(x_b)\n",
    "                bc_loss = torch.mean((bc_pred-bc_true)**2)\n",
    "\n",
    "                loss = alpha * pde_loss + bc_loss\n",
    "                loss.backward()\n",
    "                return loss\n",
    "\n",
    "            if _ % 5 == 0 and _ < 20:\n",
    "                model.update_grid_from_samples(x_i)\n",
    "\n",
    "            optimizer.step(closure)\n",
    "            sol = sol_fun(x_i)\n",
    "            loss = alpha * pde_loss + bc_loss\n",
    "            l2 = torch.mean((model(x_i) - sol)**2)\n",
    "\n",
    "            if _ % log == 0:\n",
    "                pbar.set_description(\"pde loss: %.2e | bc loss: %.2e | l2: %.2e \" % (pde_loss.cpu().detach().numpy(), bc_loss.cpu().detach().numpy(), l2.cpu().detach().numpy()))\n",
    "\n",
    "            pde_losses.append(pde_loss.cpu().detach().numpy())\n",
    "            bc_losses.append(bc_loss.cpu().detach().numpy())\n",
    "            l2_losses.append(l2.cpu().detach().numpy())\n",
    "\n",
    "\n",
    "    train()"
   ]
  },
  {
   "cell_type": "code",
   "execution_count": 3,
   "metadata": {},
   "outputs": [
    {
     "data": {
      "text/plain": [
       "MultKAN(\n",
       "  (act_fun): ModuleList(\n",
       "    (0-1): 2 x KANLayer(\n",
       "      (base_fun): SiLU()\n",
       "    )\n",
       "  )\n",
       "  (base_fun): SiLU()\n",
       "  (symbolic_fun): ModuleList(\n",
       "    (0-1): 2 x Symbolic_KANLayer()\n",
       "  )\n",
       ")"
      ]
     },
     "execution_count": 3,
     "metadata": {},
     "output_type": "execute_result"
    }
   ],
   "source": [
    "model.save_act = True\n",
    "model"
   ]
  },
  {
   "cell_type": "code",
   "execution_count": 4,
   "metadata": {},
   "outputs": [
    {
     "data": {
      "text/plain": [
       "<matplotlib.legend.Legend at 0x731c42548eb0>"
      ]
     },
     "execution_count": 4,
     "metadata": {},
     "output_type": "execute_result"
    },
    {
     "data": {
      "image/png": "[encoded data removed]",
      "text/plain": [
       "<Figure size 640x480 with 1 Axes>"
      ]
     },
     "metadata": {},
     "output_type": "display_data"
    }
   ],
   "source": [
    "plt.plot(pde_losses, marker='o')\n",
    "plt.plot(bc_losses, marker='o')\n",
    "plt.plot(l2_losses, marker='o')\n",
    "plt.yscale('log')\n",
    "plt.xlabel('steps')\n",
    "plt.legend(['PDE loss', 'BC loss', 'L2 squared'])"
   ]
  },
  {
   "cell_type": "code",
   "execution_count": 5,
   "metadata": {},
   "outputs": [],
   "source": [
    "model.get_act(x_i)"
   ]
  },
  {
   "cell_type": "code",
   "execution_count": 6,
   "metadata": {},
   "outputs": [
    {
     "data": {
      "image/png": "[encoded data removed]",
      "text/plain": [
       "<Figure size 500x400 with 10 Axes>"
      ]
     },
     "metadata": {},
     "output_type": "display_data"
    }
   ],
   "source": [
    "model.plot(beta=100)"
   ]
  },
  {
   "cell_type": "code",
   "execution_count": 7,
   "metadata": {},
   "outputs": [
    {
     "name": "stdout",
     "output_type": "stream",
     "text": [
      "fixing (0,0,0) with abs, r2=0.9994844198226929, c=3\n",
      "fixing (0,0,1) with abs, r2=0.9994744658470154, c=3\n",
      "fixing (0,1,0) with x, r2=0.9999977946281433, c=1\n",
      "fixing (0,1,1) with x, r2=0.9999983310699463, c=1\n",
      "fixing (1,0,0) with x, r2=2.382383172516711e-06, c=1\n",
      "fixing (1,1,0) with x, r2=1.1602069207583554e-05, c=1\n"
     ]
    },
    {
     "data": {
      "text/latex": [
       "$\\displaystyle 0.00243 x_{2} - 0.000198 \\left|{8.2492 x_{1} - 4.14688}\\right| + 7.5 \\cdot 10^{-5} \\left|{9.9478 x_{1} - 5.004}\\right| + 0.000725$"
      ],
      "text/plain": [
       "0.00243*x_2 - 0.000198*Abs(8.2492*x_1 - 4.14688) + 7.5e-5*Abs(9.9478*x_1 - 5.004) + 0.000725"
      ]
     },
     "execution_count": 7,
     "metadata": {},
     "output_type": "execute_result"
    }
   ],
   "source": [
    "lib = ['x','x^2','x^3','x^4','exp','log','sqrt','tanh','sin','abs']\n",
    "model.auto_symbolic(lib=lib)\n",
    "formula = model.symbolic_formula()[0][0]\n",
    "ex_round(formula,6)"
   ]
  },
  {
   "cell_type": "code",
   "execution_count": 8,
   "metadata": {},
   "outputs": [
    {
     "data": {
      "text/plain": [
       "tensor([[-1.0000, -1.0000],\n",
       "        [-1.0000, -0.9600],\n",
       "        [-1.0000, -0.9200],\n",
       "        ...,\n",
       "        [ 1.0000,  0.9200],\n",
       "        [ 1.0000,  0.9600],\n",
       "        [ 1.0000,  1.0000]], device='cuda:0')"
      ]
     },
     "execution_count": 8,
     "metadata": {},
     "output_type": "execute_result"
    }
   ],
   "source": [
    "x_i"
   ]
  },
  {
   "cell_type": "code",
   "execution_count": 9,
   "metadata": {},
   "outputs": [
    {
     "data": {
      "text/plain": [
       "tensor([[0.],\n",
       "        [0.],\n",
       "        [0.],\n",
       "        ...,\n",
       "        [0.],\n",
       "        [0.],\n",
       "        [0.]], device='cuda:0', grad_fn=<AddBackward0>)"
      ]
     },
     "execution_count": 9,
     "metadata": {},
     "output_type": "execute_result"
    }
   ],
   "source": [
    "model(x_i)"
   ]
  }
 ],
 "metadata": {
  "kernelspec": {
   "display_name": "pykan-env",
   "language": "python",
   "name": "python3"
  },
  "language_info": {
   "codemirror_mode": {
    "name": "ipython",
    "version": 3
   },
   "file_extension": ".py",
   "mimetype": "text/x-python",
   "name": "python",
   "nbconvert_exporter": "python",
   "pygments_lexer": "ipython3",
   "version": "3.9.18"
  }
 },
 "nbformat": 4,
 "nbformat_minor": 2
}
